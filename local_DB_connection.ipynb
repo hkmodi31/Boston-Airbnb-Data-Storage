{
 "cells": [
  {
   "cell_type": "code",
   "execution_count": null,
   "id": "969d6350",
   "metadata": {},
   "outputs": [],
   "source": [
    "import psycopg2\n",
    "import csv\n",
    "import local_config"
   ]
  },
  {
   "cell_type": "code",
   "execution_count": null,
   "id": "d60d2c73",
   "metadata": {},
   "outputs": [],
   "source": [
    "#Adding in the details of the database that we want to connect with\n",
    "hostname = local_config.hostname\n",
    "database = local_config.database\n",
    "username = local_config.username\n",
    "pwd = local_config.pwd\n",
    "port_id = local_config.port_id"
   ]
  },
  {
   "cell_type": "code",
   "execution_count": null,
   "id": "f4a32989",
   "metadata": {},
   "outputs": [],
   "source": [
    "#creating database boston_airbnb\n",
    "conn = psycopg2.connect(\n",
    "    host=hostname,\n",
    "    user=username,\n",
    "    password=pwd)\n",
    "conn.set_session(autocommit=True)\n",
    "\n",
    "cursor=conn.cursor()\n",
    "\n",
    "try:\n",
    "    cursor.execute('''CREATE DATABASE boston_airbnb;''')\n",
    "except Exception as error:\n",
    "    print(error)\n",
    "\n",
    "conn.close()"
   ]
  },
  {
   "cell_type": "code",
   "execution_count": null,
   "id": "8d38221b",
   "metadata": {},
   "outputs": [],
   "source": [
    "#connecting to database boston_airbnb\n",
    "conn = psycopg2.connect(\n",
    "    host=hostname,\n",
    "    database=database,\n",
    "    user=username,\n",
    "    password=pwd)\n",
    "conn.set_session(autocommit=True)\n",
    "\n",
    "cursor=conn.cursor()"
   ]
  },
  {
   "cell_type": "code",
   "execution_count": null,
   "id": "423a2d47",
   "metadata": {},
   "outputs": [],
   "source": [
    "create_neighbourhoods = '''\n",
    "CREATE TABLE IF NOT EXISTS neighbourhoods(\n",
    "neighbourhood_ID INT, \n",
    "neighbourhood_name VARCHAR(50),\n",
    "PRIMARY KEY(neighbourhood_ID)\n",
    ");\n",
    "'''\n",
    "\n",
    "create_reviewers = '''\n",
    "CREATE TABLE IF NOT EXISTS reviewers(\n",
    "reviewer_ID INT, \n",
    "reviewer_name VARCHAR(50),\n",
    "PRIMARY KEY(reviewer_ID)\n",
    ");\n",
    "'''\n",
    "\n",
    "create_hosts = '''\n",
    "CREATE TABLE IF NOT EXISTS hosts(\n",
    "host_ID BIGINT,\n",
    "host_URL TEXT,\n",
    "host_name VARCHAR,\n",
    "host_since VARCHAR,\n",
    "host_location TEXT,\n",
    "host_about TEXT,\n",
    "host_response_time TEXT,\n",
    "host_response_rate TEXT,\n",
    "host_acceptance_rate TEXT,\n",
    "host_is_superhost VARCHAR,\n",
    "host_thumbnail_URL TEXT,\n",
    "host_picture_URL TEXT,\n",
    "host_verifications VARCHAR,\n",
    "host_has_profile_pic  VARCHAR,\n",
    "host_identity_verified VARCHAR,\n",
    "PRIMARY KEY(host_ID)\n",
    ");\n",
    "'''\n",
    "\n",
    "create_listings = '''\n",
    "CREATE TABLE IF NOT EXISTS listings(\n",
    "listing_ID BIGINT, \n",
    "listing_url VARCHAR, \n",
    "name VARCHAR, \n",
    "description VARCHAR, \n",
    "neighborhood_overview VARCHAR, \n",
    "picture_url VARCHAR, \n",
    "neighbourhood_ID INT, \n",
    "latitude REAL,\n",
    "longitude REAL, \n",
    "property_type VARCHAR, \n",
    "room_type VARCHAR, \n",
    "accommodates INT,\n",
    "bathrooms_text  VARCHAR, \n",
    "bedrooms NUMERIC, \n",
    "beds NUMERIC, \n",
    "amenities VARCHAR, \n",
    "instant_bookable VARCHAR(5),\n",
    "host_ID BIGINT,\n",
    "PRIMARY KEY(listing_ID),\n",
    "CONSTRAINT fk_neighbourhoods\n",
    "    FOREIGN KEY(neighbourhood_ID)\n",
    "        REFERENCES neighbourhoods(neighbourhood_ID),\n",
    "CONSTRAINT fk_hosts\n",
    "    FOREIGN KEY(host_ID)\n",
    "        REFERENCES hosts(host_ID)\n",
    ");\n",
    "'''\n",
    "\n",
    "\n",
    "create_calendar = '''\n",
    "CREATE TABLE IF NOT EXISTS calendar(\n",
    "calendar_ID BIGINT, \n",
    "listing_ID BIGINT, \n",
    "booking_date DATE, \n",
    "availability VARCHAR(5), \n",
    "price VARCHAR(10), \n",
    "adjusted_price VARCHAR(10), \n",
    "minimum_nights REAL, \n",
    "maximum_nights REAL,\n",
    "PRIMARY KEY(calendar_ID),\n",
    "CONSTRAINT fk_listing\n",
    "    FOREIGN KEY(listing_ID)\n",
    "        REFERENCES listings(listing_ID)\n",
    ");\n",
    "'''\n",
    "   \n",
    "create_property_reviews = '''\n",
    "CREATE TABLE IF NOT EXISTS property_reviews(\n",
    "property_review_ID INT,\n",
    "listing_ID BIGINT, \n",
    "number_of_reviews INT,\n",
    "number_of_reviews_ltm INT,\n",
    "number_of_reviews_l30d INT,\n",
    "first_review TEXT,\n",
    "last_review TEXT,\n",
    "review_scores_rating REAL,\n",
    "review_scores_accuracy REAL,\n",
    "review_scores_cleanliness REAL,\n",
    "review_scores_checkin REAL,\n",
    "review_scores_communication REAL,\n",
    "review_scores_location REAL,\n",
    "review_scores_value REAL,\n",
    "PRIMARY KEY(property_review_ID),\n",
    "CONSTRAINT fk_listings\n",
    "    FOREIGN KEY(listing_ID)\n",
    "        REFERENCES listings(listing_ID)\n",
    ");\n",
    "'''\n",
    "\n",
    "create_user_reviews = '''\n",
    "CREATE TABLE IF NOT EXISTS user_reviews(\n",
    "property_review_ID BIGINT, \n",
    "review_ID BIGINT, \n",
    "review_date DATE, \n",
    "reviewer_ID BIGINT, \n",
    "comments TEXT,\n",
    "PRIMARY KEY(review_ID),\n",
    "CONSTRAINT fk_property_reviews\n",
    "    FOREIGN KEY(property_review_ID) \n",
    "        REFERENCES property_reviews(property_review_ID)\n",
    ");\n",
    "'''\n",
    "     "
   ]
  },
  {
   "cell_type": "code",
   "execution_count": null,
   "id": "7f616fe9",
   "metadata": {
    "scrolled": false
   },
   "outputs": [],
   "source": [
    "tables_list = [create_neighbourhoods,create_reviewers, create_hosts, create_listings,create_calendar,create_property_reviews,create_user_reviews]\n",
    "for table in tables_list:\n",
    "    print(table)\n",
    "    cursor.execute(table)"
   ]
  },
  {
   "cell_type": "code",
   "execution_count": null,
   "id": "91b71415",
   "metadata": {},
   "outputs": [],
   "source": [
    "query = '''COPY neighbourhoods(neighbourhood_ID, neighbourhood_name) FROM '/Users/harshmodi/Documents/Harsh/Projects/Boston-Airbnb-Data-Storage/processed_csv_files/neighbourhood.csv' DELIMITER ',' CSV HEADER;'''\n",
    "cursor.execute(query)"
   ]
  },
  {
   "cell_type": "code",
   "execution_count": null,
   "id": "ab32dd76",
   "metadata": {},
   "outputs": [],
   "source": [
    "query = '''COPY reviewers(reviewer_ID, reviewer_name) FROM '/Users/harshmodi/Documents/Harsh/Projects/Boston-Airbnb-Data-Storage/processed_csv_files/reviewers.csv' DELIMITER ',' CSV HEADER;'''\n",
    "cursor.execute(query)"
   ]
  },
  {
   "cell_type": "code",
   "execution_count": null,
   "id": "e4382a90",
   "metadata": {},
   "outputs": [],
   "source": [
    "query = '''COPY hosts(host_ID, host_Name , host_URL, host_Since, host_location, host_about, host_response_time, host_response_rate, host_acceptance_rate, host_is_superhost, host_thumbnail_URL, host_picture_URL, host_verifications, host_has_profile_pic , host_identity_verified) FROM '/Users/harshmodi/Documents/Harsh/Projects/Boston-Airbnb-Data-Storage/processed_csv_files/hosts.csv' DELIMITER ',' CSV HEADER;'''\n",
    "cursor.execute(query)"
   ]
  },
  {
   "cell_type": "code",
   "execution_count": null,
   "id": "95209eec",
   "metadata": {},
   "outputs": [],
   "source": [
    "query = '''COPY listings(listing_ID, listing_url, name, description, neighborhood_overview, picture_url, neighbourhood_id, latitude, longitude, property_type, room_type, accommodates, bathrooms_text, bedrooms, beds, amenities, instant_bookable, host_ID) FROM '/Users/harshmodi/Documents/Harsh/Projects/Boston-Airbnb-Data-Storage/processed_csv_files/listings.csv' DELIMITER ',' CSV HEADER;'''\n",
    "cursor.execute(query)       "
   ]
  },
  {
   "cell_type": "code",
   "execution_count": null,
   "id": "9c735ac4",
   "metadata": {},
   "outputs": [],
   "source": [
    "query = '''COPY calendar(calendar_ID, listing_ID, booking_date, availability, price, adjusted_price, minimum_nights, maximum_nights) FROM '/Users/harshmodi/Documents/Harsh/Projects/Boston-Airbnb-Data-Storage/processed_csv_files/calendar.csv' DELIMITER ',' CSV HEADER;'''\n",
    "cursor.execute(query)"
   ]
  },
  {
   "cell_type": "code",
   "execution_count": null,
   "id": "daaa37b2",
   "metadata": {},
   "outputs": [],
   "source": [
    "query = '''COPY property_reviews(property_review_ID, listing_ID, number_of_reviews, number_of_reviews_ltm, number_of_reviews_l30d, first_review, last_review, review_scores_rating, review_scores_accuracy, review_scores_cleanliness, review_scores_checkin, review_scores_communication, review_scores_location, review_scores_value) FROM '/Users/harshmodi/Documents/Harsh/Projects/Boston-Airbnb-Data-Storage/processed_csv_files/property_reviews.csv' DELIMITER ',' CSV HEADER;'''\n",
    "cursor.execute(query)"
   ]
  },
  {
   "cell_type": "code",
   "execution_count": null,
   "id": "95572be5",
   "metadata": {},
   "outputs": [],
   "source": [
    "query = '''COPY user_reviews(property_review_ID, review_ID, review_date , reviewer_ID, comments) FROM '/Users/harshmodi/Documents/Harsh/Projects/Boston-Airbnb-Data-Storage/processed_csv_files/user_reviews.csv' DELIMITER ',' CSV HEADER;'''\n",
    "cursor.execute(query)"
   ]
  },
  {
   "cell_type": "code",
   "execution_count": null,
   "id": "76f8da8a",
   "metadata": {},
   "outputs": [],
   "source": [
    "conn.close()"
   ]
  },
  {
   "cell_type": "code",
   "execution_count": null,
   "id": "5504391d",
   "metadata": {},
   "outputs": [],
   "source": []
  }
 ],
 "metadata": {
  "kernelspec": {
   "display_name": "Python 3 (ipykernel)",
   "language": "python",
   "name": "python3"
  },
  "language_info": {
   "codemirror_mode": {
    "name": "ipython",
    "version": 3
   },
   "file_extension": ".py",
   "mimetype": "text/x-python",
   "name": "python",
   "nbconvert_exporter": "python",
   "pygments_lexer": "ipython3",
   "version": "3.11.3"
  }
 },
 "nbformat": 4,
 "nbformat_minor": 5
}
