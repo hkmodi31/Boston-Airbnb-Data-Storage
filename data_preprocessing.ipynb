{
 "cells": [
  {
   "cell_type": "markdown",
   "id": "0dab51c4",
   "metadata": {},
   "source": [
    "### Importing libraries"
   ]
  },
  {
   "cell_type": "code",
   "execution_count": 1,
   "id": "ef47110d",
   "metadata": {},
   "outputs": [],
   "source": [
    "#importing libraries\n",
    "import pandas as pd\n",
    "import numpy as np\n",
    "import os\n",
    "import warnings\n",
    "warnings.filterwarnings(\"ignore\")"
   ]
  },
  {
   "cell_type": "markdown",
   "id": "23a8beb6",
   "metadata": {},
   "source": [
    "### Reading the three raw data files we have here"
   ]
  },
  {
   "cell_type": "code",
   "execution_count": 2,
   "id": "935d0c4f",
   "metadata": {},
   "outputs": [],
   "source": [
    "#reading data stored in local machine (available online)\n",
    "calendar = pd.read_csv(\"./data/calendar_detailed.csv\")\n",
    "user_reviews = pd.read_csv(\"./data/reviews_detailed.csv\")\n",
    "listings = pd.read_csv(\"./data/listings_detailed.csv\")"
   ]
  },
  {
   "cell_type": "code",
   "execution_count": 3,
   "id": "10d307e2",
   "metadata": {},
   "outputs": [],
   "source": [
    "pd.set_option('display.max_colwidth', None)"
   ]
  },
  {
   "cell_type": "markdown",
   "id": "a08633fe",
   "metadata": {},
   "source": [
    "### Working on the calendar dataset and processing it -"
   ]
  },
  {
   "cell_type": "code",
   "execution_count": 4,
   "id": "76dd7eb5",
   "metadata": {},
   "outputs": [],
   "source": [
    "calendar.reset_index(inplace=True)\n",
    "calendar.rename(columns={\"index\":\"calendar_ID\"},inplace = True)\n",
    "calendar.rename(columns={\"listing_id\":\"listing_ID\"}, inplace = True)\n",
    "\n",
    "calendar[\"date\"] = calendar[\"date\"].astype('datetime64[ns]')\n",
    "calendar[[\"available\",\"price\",\"adjusted_price\"]] = calendar[[\"available\",\"price\",\"adjusted_price\"]].astype(str)\n",
    "calendar[[\"maximum_nights\",\"minimum_nights\"]] = calendar[[\"maximum_nights\",\"minimum_nights\"]].fillna(-1)\n",
    "calendar[[\"maximum_nights\",\"minimum_nights\"]] = calendar[[\"maximum_nights\",\"minimum_nights\"]].astype(int)\n",
    "calendar[[\"maximum_nights\",\"minimum_nights\"]] = calendar[[\"maximum_nights\",\"minimum_nights\"]].replace(-1, np.nan)\n",
    "calendar.fillna(0, inplace=True)"
   ]
  },
  {
   "cell_type": "code",
   "execution_count": 5,
   "id": "d0e31ce1",
   "metadata": {},
   "outputs": [
    {
     "name": "stdout",
     "output_type": "stream",
     "text": [
      "<class 'pandas.core.frame.DataFrame'>\n",
      "RangeIndex: 1450145 entries, 0 to 1450144\n",
      "Data columns (total 8 columns):\n",
      " #   Column          Non-Null Count    Dtype         \n",
      "---  ------          --------------    -----         \n",
      " 0   calendar_ID     1450145 non-null  int64         \n",
      " 1   listing_ID      1450145 non-null  int64         \n",
      " 2   date            1450145 non-null  datetime64[ns]\n",
      " 3   available       1450145 non-null  object        \n",
      " 4   price           1450145 non-null  object        \n",
      " 5   adjusted_price  1450145 non-null  object        \n",
      " 6   minimum_nights  1450145 non-null  float64       \n",
      " 7   maximum_nights  1450145 non-null  float64       \n",
      "dtypes: datetime64[ns](1), float64(2), int64(2), object(3)\n",
      "memory usage: 88.5+ MB\n"
     ]
    }
   ],
   "source": [
    "calendar.info()"
   ]
  },
  {
   "cell_type": "markdown",
   "id": "d63f2d52",
   "metadata": {},
   "source": [
    "### Working on listings file and processing it -"
   ]
  },
  {
   "cell_type": "code",
   "execution_count": 6,
   "id": "71c7b7e5",
   "metadata": {},
   "outputs": [],
   "source": [
    "listings.rename(columns={'id':'listing_ID'}, inplace = True)\n",
    "listings.fillna(0, inplace=True)"
   ]
  },
  {
   "cell_type": "code",
   "execution_count": 7,
   "id": "f7e127f2",
   "metadata": {},
   "outputs": [],
   "source": [
    "#cleaning the listings table by removing unwanted columns\n",
    "listings.drop([\"scrape_id\",\"last_scraped\",\"source\",\"price\", \"bathrooms\",'minimum_nights', 'maximum_nights',\n",
    "       'minimum_minimum_nights', 'maximum_minimum_nights',\n",
    "       'minimum_maximum_nights', 'maximum_maximum_nights',\n",
    "       'minimum_nights_avg_ntm', 'maximum_nights_avg_ntm', 'calendar_updated',\n",
    "       'has_availability', 'availability_30', 'availability_60',\n",
    "       'availability_90', 'availability_365', 'calendar_last_scraped','license','reviews_per_month'], axis = 1, inplace = True)"
   ]
  },
  {
   "cell_type": "code",
   "execution_count": 8,
   "id": "1361c152",
   "metadata": {},
   "outputs": [],
   "source": [
    "#Creating a table property reviews that has all the properties and it's review scores\n",
    "property_reviews = listings[[\"listing_ID\",'number_of_reviews',\n",
    "       'number_of_reviews_ltm', 'number_of_reviews_l30d', 'first_review',\n",
    "       'last_review', 'review_scores_rating', 'review_scores_accuracy',\n",
    "       'review_scores_cleanliness', 'review_scores_checkin',\n",
    "       'review_scores_communication', 'review_scores_location',\n",
    "       'review_scores_value']]\n",
    "\n",
    "listings.drop(['number_of_reviews',\n",
    "       'number_of_reviews_ltm', 'number_of_reviews_l30d', 'first_review',\n",
    "       'last_review', 'review_scores_rating', 'review_scores_accuracy',\n",
    "       'review_scores_cleanliness', 'review_scores_checkin',\n",
    "       'review_scores_communication', 'review_scores_location',\n",
    "       'review_scores_value'], axis = 1, inplace = True)\n",
    "\n",
    "property_reviews.reset_index(inplace=True)\n",
    "property_reviews.rename(columns={\"index\":\"property_review_ID\"}, inplace = True)"
   ]
  },
  {
   "cell_type": "code",
   "execution_count": 9,
   "id": "f7002fbb",
   "metadata": {},
   "outputs": [],
   "source": [
    "#Creating a table that has host details stored\n",
    "hosts = listings[['listing_ID','host_id', 'host_url', 'host_name', 'host_since', 'host_location',\n",
    "       'host_about', 'host_response_time', 'host_response_rate',\n",
    "       'host_acceptance_rate', 'host_is_superhost', 'host_thumbnail_url',\n",
    "       'host_picture_url', 'host_verifications',\n",
    "       'host_has_profile_pic', 'host_identity_verified']]\n",
    "\n",
    "listings.drop(['host_id', 'host_url', 'host_name', 'host_since', 'host_location',\n",
    "       'host_about', 'host_response_time', 'host_response_rate',\n",
    "       'host_acceptance_rate', 'host_is_superhost', 'host_thumbnail_url',\n",
    "       'host_picture_url','host_neighbourhood', 'host_listings_count',\n",
    "       'host_total_listings_count', 'host_verifications',\n",
    "       'host_has_profile_pic', 'host_identity_verified', 'calculated_host_listings_count',\n",
    "       'calculated_host_listings_count_entire_homes',\n",
    "       'calculated_host_listings_count_private_rooms',\n",
    "       'calculated_host_listings_count_shared_rooms'], axis = 1, inplace = True)\n",
    "\n",
    "hosts[\"host_since\"] = hosts[\"host_since\"].astype('datetime64[ns]')\n",
    "hosts[\"host_about\"].replace(\"\\r\",\"\",inplace=True,regex=True)\n",
    "\n",
    "# hosts.drop([\"listing_ID\"], inplace = True)\n",
    "# hosts = hosts.drop_duplicates().reset_index(drop=True)"
   ]
  },
  {
   "cell_type": "code",
   "execution_count": 10,
   "id": "15a1b7a9",
   "metadata": {},
   "outputs": [],
   "source": [
    "#Creating a neighbourhood table that stores details of neighbourhood\n",
    "neighbourhood= listings[[\"neighbourhood_cleansed\"]]\n",
    "listings.drop(['neighbourhood','neighbourhood_group_cleansed'], axis=1, inplace = True)\n",
    "neighbourhood.drop_duplicates(inplace=True)\n",
    "neighbourhood.reset_index(drop=True, inplace=True)\n",
    "\n",
    "num = 0\n",
    "mapping = {}\n",
    "for location in listings.neighbourhood_cleansed.unique():\n",
    "    num+=1\n",
    "    mapping[location] = num\n",
    "\n",
    "num=0\n",
    "for location in listings.neighbourhood_cleansed.unique():\n",
    "    num+=1\n",
    "    listings.replace({location:num}, inplace=True)\n",
    "\n",
    "df = pd.DataFrame.from_dict(mapping, orient=\"index\").reset_index()\n",
    "df.rename(columns={\"index\":\"neighbourhood_cleansed\",0:\"neighbourhood_ID\"}, inplace=True)\n",
    "neighbourhood = pd.merge(neighbourhood,df, on=\"neighbourhood_cleansed\")\n",
    "\n",
    "neighbourhood.rename(columns={\"neighbourhood_cleansed\":\"neighbourhood_name\"}, inplace = True)\n",
    "neighbourhood = neighbourhood.reindex(columns=['neighbourhood_ID','neighbourhood_name'])"
   ]
  },
  {
   "cell_type": "markdown",
   "id": "6b3d1747",
   "metadata": {},
   "source": [
    "### Processing a new table \"reviewers\" - "
   ]
  },
  {
   "cell_type": "code",
   "execution_count": 11,
   "id": "db19d8c5",
   "metadata": {},
   "outputs": [],
   "source": [
    "#creating new table with reviewers data. This includes reviewer name and id\n",
    "reviewers = user_reviews[[\"reviewer_id\",\"reviewer_name\"]]\n",
    "reviewers.drop_duplicates(subset=[\"reviewer_id\"], inplace=True)\n",
    "reviewers.reset_index(inplace=True)\n",
    "reviewers.drop(columns=[\"index\"], inplace=True)\n",
    "reviewers.rename(columns={'reviewer_id':'reviewer_ID'}, inplace = True)"
   ]
  },
  {
   "cell_type": "markdown",
   "id": "5d8525a6",
   "metadata": {},
   "source": [
    "### Processing a new table \"user_reviews\" - \n"
   ]
  },
  {
   "cell_type": "code",
   "execution_count": 12,
   "id": "563773e4",
   "metadata": {},
   "outputs": [],
   "source": [
    "user_reviews.rename(columns={\"id\":\"review_id\",\"listing_id\":\"listing_ID\"}, inplace = True)\n",
    "user_reviews.drop(columns=[\"reviewer_name\"], inplace=True)\n",
    "user_reviews\n",
    "\n",
    "user_reviews = pd.merge(user_reviews, property_reviews, on='listing_ID', how='left')\n",
    "user_reviews = user_reviews[[\"property_review_ID\", \"review_id\", \"date\", \"reviewer_id\", \"comments\"]]\n",
    "\n",
    "user_reviews.rename(columns={\"review_id\":\"review_ID\",\"reviewer_id\":\"reviewer_ID\"}, inplace = True)\n",
    "user_reviews[\"comments\"].replace(\"\\r\",\"\",inplace=True,regex=True)\n",
    "user_reviews[\"comments\"].replace(\"<br/>\",\"\",inplace=True,regex=True)"
   ]
  },
  {
   "cell_type": "code",
   "execution_count": 13,
   "id": "800e6f7c",
   "metadata": {},
   "outputs": [],
   "source": [
    "listings = pd.merge(listings, hosts, on=\"listing_ID\", how='left')\n",
    "listings.drop(['host_url', 'host_name', 'host_since', 'host_location',\n",
    "       'host_about', 'host_response_time', 'host_response_rate',\n",
    "       'host_acceptance_rate', 'host_is_superhost', 'host_thumbnail_url',\n",
    "       'host_picture_url', 'host_verifications',\n",
    "       'host_has_profile_pic', 'host_identity_verified'], axis = 1, inplace = True)\n",
    "\n",
    "listings.rename(columns={\"host_id\":\"host_ID\",\"neighbourhood_cleansed\":\"neighbourhood_ID\"}, inplace = True)\n",
    "\n",
    "\n",
    "hosts.drop([\"listing_ID\"], axis = 1, inplace = True)\n",
    "hosts = hosts.drop_duplicates().reset_index(drop=True)"
   ]
  },
  {
   "cell_type": "code",
   "execution_count": 14,
   "id": "1039b4e3",
   "metadata": {},
   "outputs": [],
   "source": [
    "directory = \"./processed_csv_files\"\n",
    "\n",
    "# Check if the directory exists\n",
    "if not os.path.exists(directory):\n",
    "    # If it doesn't exist, create it\n",
    "    os.makedirs(directory)\n",
    "    \n",
    "    \n",
    "list_of_tables = [user_reviews,calendar,listings,property_reviews,neighbourhood,hosts,reviewers]\n",
    "list_of_tables_names = ['user_reviews','calendar','listings','property_reviews','neighbourhood','hosts','reviewers']\n",
    "\n",
    "for table,table_name in zip(list_of_tables,list_of_tables_names):\n",
    "    table.to_csv(f\"./processed_csv_files/{table_name}.csv\",index=False)"
   ]
  },
  {
   "cell_type": "code",
   "execution_count": null,
   "id": "b52fbf66",
   "metadata": {},
   "outputs": [],
   "source": []
  },
  {
   "cell_type": "code",
   "execution_count": null,
   "id": "1b6810dd",
   "metadata": {},
   "outputs": [],
   "source": []
  }
 ],
 "metadata": {
  "kernelspec": {
   "display_name": "Python 3 (ipykernel)",
   "language": "python",
   "name": "python3"
  },
  "language_info": {
   "codemirror_mode": {
    "name": "ipython",
    "version": 3
   },
   "file_extension": ".py",
   "mimetype": "text/x-python",
   "name": "python",
   "nbconvert_exporter": "python",
   "pygments_lexer": "ipython3",
   "version": "3.11.6"
  }
 },
 "nbformat": 4,
 "nbformat_minor": 5
}
